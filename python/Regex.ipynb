{
 "cells": [
  {
   "cell_type": "code",
   "execution_count": 1,
   "metadata": {},
   "outputs": [],
   "source": [
    "import re"
   ]
  },
  {
   "cell_type": "code",
   "execution_count": 2,
   "metadata": {},
   "outputs": [
    {
     "data": {
      "text/plain": [
       "<re.Match object; span=(3, 6), match='123'>"
      ]
     },
     "execution_count": 2,
     "metadata": {},
     "output_type": "execute_result"
    }
   ],
   "source": [
    "# Search '123' in the given string. re.search() always returns the left-most match in the string\n",
    "s = 'foo123bar123'\n",
    "re.search('123', s)"
   ]
  },
  {
   "cell_type": "markdown",
   "metadata": {},
   "source": [
    "## Character Class\n",
    "In a regex, a set of characters specified in square brackets (`[]`) makes up a character class. Or you can use pre-defined **metacharacters** to match characters. Check out [here](https://realpython.com/regex-python/#metacharacters-supported-by-the-re-module) for a full list of metacharacters supported by `re` module."
   ]
  },
  {
   "cell_type": "code",
   "execution_count": 3,
   "metadata": {},
   "outputs": [
    {
     "data": {
      "text/plain": [
       "<re.Match object; span=(3, 6), match='123'>"
      ]
     },
     "execution_count": 3,
     "metadata": {},
     "output_type": "execute_result"
    }
   ],
   "source": [
    "# [0-9] matches any single decimal digit character—any character between '0' and '9', inclusive.\n",
    "# The full expression [0-9][0-9][0-9] matches any sequence of three consecutive decimal digit characters.\n",
    "re.search('[0-9][0-9][0-9]', s)"
   ]
  },
  {
   "cell_type": "code",
   "execution_count": 4,
   "metadata": {},
   "outputs": [
    {
     "name": "stdout",
     "output_type": "stream",
     "text": [
      "None\n"
     ]
    }
   ],
   "source": [
    "print(re.search('[0-9][0-9][0-9]', '12foo34'))"
   ]
  },
  {
   "cell_type": "code",
   "execution_count": 5,
   "metadata": {},
   "outputs": [
    {
     "name": "stdout",
     "output_type": "stream",
     "text": [
      "<re.Match object; span=(3, 6), match='bar'>\n",
      "<re.Match object; span=(3, 6), match='baz'>\n"
     ]
    }
   ],
   "source": [
    "# Enumerate the set of characters to match in the brackets\n",
    "print(re.search('ba[artz]', 'foobarqux'))\n",
    "print(re.search('ba[artz]', 'foobazqux'))"
   ]
  },
  {
   "cell_type": "code",
   "execution_count": 6,
   "metadata": {},
   "outputs": [
    {
     "data": {
      "text/plain": [
       "<re.Match object; span=(4, 5), match='a'>"
      ]
     },
     "execution_count": 6,
     "metadata": {},
     "output_type": "execute_result"
    }
   ],
   "source": [
    "# [0-9a-fA-F] matches any hexadecimal digit character\n",
    "re.search('[0-9a-fA-f]', '--- a0 ---')"
   ]
  },
  {
   "cell_type": "code",
   "execution_count": 7,
   "metadata": {},
   "outputs": [
    {
     "data": {
      "text/plain": [
       "<re.Match object; span=(5, 6), match='f'>"
      ]
     },
     "execution_count": 7,
     "metadata": {},
     "output_type": "execute_result"
    }
   ],
   "source": [
    "# Match any characters that isn't a digit\n",
    "# Note: ^ needs to appear as the first character.\n",
    "re.search('[^0-9]', '12345foo')"
   ]
  },
  {
   "cell_type": "code",
   "execution_count": 8,
   "metadata": {},
   "outputs": [
    {
     "data": {
      "text/plain": [
       "<re.Match object; span=(3, 4), match='^'>"
      ]
     },
     "execution_count": 8,
     "metadata": {},
     "output_type": "execute_result"
    }
   ],
   "source": [
    "# ^ has no effect here.\n",
    "re.search('[#:^]', 'foo^bar:baz#qux')"
   ]
  },
  {
   "cell_type": "code",
   "execution_count": 9,
   "metadata": {},
   "outputs": [
    {
     "name": "stdout",
     "output_type": "stream",
     "text": [
      "<re.Match object; span=(3, 4), match='-'>\n",
      "<re.Match object; span=(3, 4), match='-'>\n",
      "<re.Match object; span=(3, 4), match='-'>\n"
     ]
    }
   ],
   "source": [
    "# Escape '-' by adding backslash or put it as the first or last character\n",
    "print(re.search('[-abc]', '123-456'))\n",
    "print(re.search('[abc-]', '123-456'))\n",
    "print(re.search('[ab\\-c]', '123-456'))"
   ]
  },
  {
   "cell_type": "code",
   "execution_count": 10,
   "metadata": {},
   "outputs": [
    {
     "name": "stdout",
     "output_type": "stream",
     "text": [
      "<re.Match object; span=(5, 6), match=']'>\n",
      "<re.Match object; span=(3, 4), match='['>\n"
     ]
    }
   ],
   "source": [
    "print(re.search('[]]', 'foo[1]'))\n",
    "print(re.search('[\\[]', 'foo[1]'))"
   ]
  },
  {
   "cell_type": "code",
   "execution_count": 11,
   "metadata": {},
   "outputs": [
    {
     "name": "stdout",
     "output_type": "stream",
     "text": [
      "<re.Match object; span=(3, 4), match='*'>\n",
      "<re.Match object; span=(3, 4), match='+'>\n"
     ]
    }
   ],
   "source": [
    "# Other regex metacharacters lose their special meaning inside a character class\n",
    "print(re.search('[)*+|]', '123*456'))\n",
    "print(re.search('[)*+|]', '123+456'))"
   ]
  },
  {
   "cell_type": "code",
   "execution_count": 12,
   "metadata": {},
   "outputs": [
    {
     "name": "stdout",
     "output_type": "stream",
     "text": [
      "<re.Match object; span=(3, 4), match='a'>\n",
      "<re.Match object; span=(3, 4), match='a'>\n"
     ]
    }
   ],
   "source": [
    "# \\w: Match based on whether a character is a word character.\n",
    "print(re.search('\\w', '#(.a$@&'))\n",
    "# equivalent to \n",
    "print(re.search('[a-zA-Z0-9_]', '#(.a$@&'))"
   ]
  },
  {
   "cell_type": "code",
   "execution_count": 13,
   "metadata": {},
   "outputs": [
    {
     "name": "stdout",
     "output_type": "stream",
     "text": [
      "<re.Match object; span=(3, 4), match='*'>\n",
      "<re.Match object; span=(3, 4), match='*'>\n"
     ]
    }
   ],
   "source": [
    "# \\W: Match any non-word characters.\n",
    "print(re.search('\\W', 'a_1*3Qb'))\n",
    "# equivalent to\n",
    "print(re.search('[^a-zA-Z0-9_]', 'a_1*3Qb'))"
   ]
  },
  {
   "cell_type": "code",
   "execution_count": 14,
   "metadata": {},
   "outputs": [
    {
     "name": "stdout",
     "output_type": "stream",
     "text": [
      "<re.Match object; span=(3, 4), match='4'>\n",
      "<re.Match object; span=(3, 4), match='Q'>\n"
     ]
    }
   ],
   "source": [
    "# \\d \\D: Match based on whether a character is a decimal digit.\n",
    "print(re.search('\\d', 'abc4def'))\n",
    "print(re.search('\\D', '234Q678'))"
   ]
  },
  {
   "cell_type": "code",
   "execution_count": 16,
   "metadata": {},
   "outputs": [
    {
     "name": "stdout",
     "output_type": "stream",
     "text": [
      "<re.Match object; span=(3, 4), match='\\n'>\n",
      "<re.Match object; span=(4, 5), match='f'>\n"
     ]
    }
   ],
   "source": [
    "# \\s \\S: Match based on whether a character represents whitespace.\n",
    "print(re.search('\\s', 'foo\\nbar baz'))\n",
    "print(re.search('\\S', '  \\n foo  \\n  '))"
   ]
  },
  {
   "cell_type": "code",
   "execution_count": 17,
   "metadata": {},
   "outputs": [
    {
     "name": "stdout",
     "output_type": "stream",
     "text": [
      "<re.Match object; span=(3, 4), match='3'>\n",
      "<re.Match object; span=(3, 4), match='a'>\n",
      "<re.Match object; span=(3, 4), match=' '>\n"
     ]
    }
   ],
   "source": [
    "# The character class sequences \\w, \\W, \\d, \\D, \\s, and \\S can appear inside a square bracket character class as well.\n",
    "print(re.search('[\\d\\w\\s]', '---3---'))\n",
    "print(re.search('[\\d\\w\\s]', '---a---'))\n",
    "print(re.search('[\\d\\w\\s]', '--- ---'))"
   ]
  },
  {
   "cell_type": "markdown",
   "metadata": {},
   "source": [
    "### Escaping metacharacter"
   ]
  },
  {
   "cell_type": "code",
   "execution_count": 18,
   "metadata": {},
   "outputs": [
    {
     "name": "stdout",
     "output_type": "stream",
     "text": [
      "<re.Match object; span=(0, 1), match='f'>\n",
      "<re.Match object; span=(3, 4), match='.'>\n"
     ]
    }
   ],
   "source": [
    "# match any characters except whitespace\n",
    "print(re.search('.', 'foo.bar'))\n",
    "# match literal '.'\n",
    "print(re.search('\\.', 'foo.bar'))"
   ]
  },
  {
   "cell_type": "code",
   "execution_count": 22,
   "metadata": {},
   "outputs": [
    {
     "name": "stdout",
     "output_type": "stream",
     "text": [
      "<re.Match object; span=(3, 4), match='\\\\'>\n",
      "<re.Match object; span=(3, 4), match='\\\\'>\n"
     ]
    }
   ],
   "source": [
    "# To match backslash, use double \"escapte backslash\"\n",
    "print(re.search('\\\\\\\\', r\"foo\\bar\"))\n",
    "# Or use raw string\n",
    "print(re.search(r'\\\\', r'foo\\bar'))"
   ]
  },
  {
   "cell_type": "markdown",
   "metadata": {},
   "source": [
    "### Anchors"
   ]
  },
  {
   "cell_type": "code",
   "execution_count": 24,
   "metadata": {},
   "outputs": [
    {
     "name": "stdout",
     "output_type": "stream",
     "text": [
      "<re.Match object; span=(0, 3), match='foo'>\n",
      "None\n"
     ]
    }
   ],
   "source": [
    "# ^ or \\A: anchor a match to the start of <string>.\n",
    "print(re.search('^foo', 'foobar'))\n",
    "print(re.search('\\Afoo', 'barfoo'))"
   ]
  },
  {
   "cell_type": "code",
   "execution_count": 26,
   "metadata": {},
   "outputs": [
    {
     "name": "stdout",
     "output_type": "stream",
     "text": [
      "<re.Match object; span=(3, 6), match='bar'>\n",
      "None\n"
     ]
    }
   ],
   "source": [
    "# $ or \\Z: anchor a match to the end of <string>.\n",
    "print(re.search('bar$', 'foobar'))\n",
    "print(re.search('bar\\Z', 'barfoo'))"
   ]
  },
  {
   "cell_type": "code",
   "execution_count": 27,
   "metadata": {},
   "outputs": [
    {
     "name": "stdout",
     "output_type": "stream",
     "text": [
      "<re.Match object; span=(3, 6), match='bar'>\n",
      "None\n"
     ]
    }
   ],
   "source": [
    "# As a special case, $ (but not \\Z) also matches just before a single newline at the end of the search string.\n",
    "print(re.search('bar$', 'foobar\\n'))\n",
    "print(re.search('bar\\Z', 'foobar\\n'))"
   ]
  },
  {
   "cell_type": "code",
   "execution_count": 31,
   "metadata": {},
   "outputs": [
    {
     "name": "stdout",
     "output_type": "stream",
     "text": [
      "<re.Match object; span=(4, 7), match='bar'>\n",
      "<re.Match object; span=(4, 7), match='bar'>\n",
      "None\n",
      "<re.Match object; span=(0, 3), match='foo'>\n",
      "<re.Match object; span=(0, 3), match='foo'>\n",
      "None\n"
     ]
    }
   ],
   "source": [
    "# \\b: anchors a match to a word boundary.\n",
    "print(re.search(r'\\bbar', 'foo bar'))\n",
    "print(re.search(r'\\bbar', 'foo.bar'))\n",
    "print(re.search(r'\\bbar', 'foobar'))\n",
    "print(re.search(r'foo\\b', 'foo bar'))\n",
    "print(re.search(r'foo\\b', 'foo.bar'))\n",
    "print(re.search(r'foo\\b', 'foobar'))"
   ]
  },
  {
   "cell_type": "code",
   "execution_count": 32,
   "metadata": {},
   "outputs": [
    {
     "name": "stdout",
     "output_type": "stream",
     "text": [
      "<re.Match object; span=(4, 7), match='bar'>\n",
      "<re.Match object; span=(4, 7), match='bar'>\n",
      "None\n"
     ]
    }
   ],
   "source": [
    "# Match a whole word (note the usage of raw string)\n",
    "print(re.search(r'\\bbar\\b', 'foo bar baz'))\n",
    "print(re.search(r'\\bbar\\b', 'foo(bar)baz'))\n",
    "print(re.search(r'\\bbar\\b', 'foobarbaz'))"
   ]
  },
  {
   "cell_type": "code",
   "execution_count": 34,
   "metadata": {},
   "outputs": [
    {
     "name": "stdout",
     "output_type": "stream",
     "text": [
      "None\n",
      "None\n",
      "<re.Match object; span=(3, 6), match='foo'>\n"
     ]
    }
   ],
   "source": [
    "# \\B: anchors a match to a location that isn’t a word boundary.\n",
    "print(re.search(r'\\Bfoo\\B', 'foo'))\n",
    "print(re.search(r'\\Bfoo\\B', '.foo.'))\n",
    "print(re.search(r'\\Bfoo\\B', 'barfoobaz'))"
   ]
  },
  {
   "cell_type": "markdown",
   "metadata": {},
   "source": [
    "### Quantifiers\n",
    "A **quantifier** metacharacter immediately follows a portion of a `<regex>` and indicates how many times that portion must occur for the match to succeed."
   ]
  },
  {
   "cell_type": "code",
   "execution_count": 37,
   "metadata": {},
   "outputs": [
    {
     "name": "stdout",
     "output_type": "stream",
     "text": [
      "<re.Match object; span=(0, 6), match='foobar'>\n",
      "<re.Match object; span=(0, 7), match='foo-bar'>\n",
      "<re.Match object; span=(0, 8), match='foo--bar'>\n"
     ]
    }
   ],
   "source": [
    "# *: Matches zero or more repetitions of the preceding regex.\n",
    "print(re.search('foo-*bar', 'foobar'))\n",
    "print(re.search('foo-*bar', 'foo-bar'))\n",
    "print(re.search('foo-*bar', 'foo--bar'))"
   ]
  },
  {
   "cell_type": "code",
   "execution_count": 39,
   "metadata": {},
   "outputs": [
    {
     "name": "stdout",
     "output_type": "stream",
     "text": [
      "None\n",
      "<re.Match object; span=(0, 7), match='foo-bar'>\n",
      "<re.Match object; span=(0, 8), match='foo--bar'>\n"
     ]
    }
   ],
   "source": [
    "# +: Matches one or more repetitions of the preceding regex.\n",
    "print(re.search('foo-+bar', 'foobar'))\n",
    "print(re.search('foo-+bar', 'foo-bar'))\n",
    "print(re.search('foo-+bar', 'foo--bar'))"
   ]
  },
  {
   "cell_type": "code",
   "execution_count": 40,
   "metadata": {},
   "outputs": [
    {
     "name": "stdout",
     "output_type": "stream",
     "text": [
      "<re.Match object; span=(0, 6), match='foobar'>\n",
      "<re.Match object; span=(0, 7), match='foo-bar'>\n",
      "None\n"
     ]
    }
   ],
   "source": [
    "# ?: Matches zero or one repetitions of the preceding regex.\n",
    "print(re.search('foo-?bar', 'foobar'))\n",
    "print(re.search('foo-?bar', 'foo-bar'))\n",
    "print(re.search('foo-?bar', 'foo--bar'))"
   ]
  },
  {
   "cell_type": "code",
   "execution_count": 42,
   "metadata": {},
   "outputs": [
    {
     "name": "stdout",
     "output_type": "stream",
     "text": [
      "<re.Match object; span=(1, 18), match='<foo> <bar> <baz>'>\n",
      "<re.Match object; span=(1, 6), match='<foo>'>\n"
     ]
    }
   ],
   "source": [
    "'''\n",
    "*?\n",
    "+?\n",
    "??\n",
    "\n",
    "The non-greedy (or lazy) versions of the *, +, and ? quantifiers.\n",
    "'''\n",
    "# Greedy version: match anything in between < and > and produces longest possible match\n",
    "print(re.search('<.*>', '%<foo> <bar> <baz>%'))\n",
    "\n",
    "# Non-greedy version: \n",
    "print(re.search('<.*?>', '%<foo> <bar> <baz>%'))"
   ]
  },
  {
   "cell_type": "code",
   "execution_count": 43,
   "metadata": {},
   "outputs": [
    {
     "name": "stdout",
     "output_type": "stream",
     "text": [
      "None\n",
      "<re.Match object; span=(0, 5), match='x---x'>\n"
     ]
    }
   ],
   "source": [
    "# {m}: Matches exactly m repetitions of the preceding regex.\n",
    "print(re.search('x-{3}x', 'x--x'))\n",
    "print(re.search('x-{3}x', 'x---x'))"
   ]
  },
  {
   "cell_type": "code",
   "execution_count": 46,
   "metadata": {},
   "outputs": [
    {
     "name": "stdout",
     "output_type": "stream",
     "text": [
      "1  x-x        None\n",
      "2  x--x       <re.Match object; span=(0, 4), match='x--x'>\n",
      "3  x---x      <re.Match object; span=(0, 5), match='x---x'>\n",
      "4  x----x     <re.Match object; span=(0, 6), match='x----x'>\n",
      "5  x-----x    None\n"
     ]
    }
   ],
   "source": [
    "'''\n",
    "{m,n}: Matches any number of repetitions of the preceding <regex> from m to n, inclusive.\n",
    "{,n}: Any number of repetitions of <regex> less than or equal to n, equal to <regex>{0,n}\n",
    "{m,}: Any number of repetitions of <regex> greater than or equal to m\n",
    "{,}:  Any number of repetitions of <regex>, equal to <regex>{0,} or <regex>*\n",
    "'''\n",
    "for i in range(1, 6):\n",
    "    s = f\"x{'-' * i}x\"\n",
    "    print(f'{i}  {s:10}', re.search('x-{2,4}x', s))"
   ]
  },
  {
   "cell_type": "code",
   "execution_count": 45,
   "metadata": {},
   "outputs": [
    {
     "name": "stdout",
     "output_type": "stream",
     "text": [
      "<re.Match object; span=(0, 5), match='aaaaa'>\n",
      "<re.Match object; span=(0, 3), match='aaa'>\n"
     ]
    }
   ],
   "source": [
    "# {m,n}?: The non-greedy (lazy) version of {m,n}.\n",
    "print(re.search('a{3,5}', 'aaaaaaaa'))\n",
    "print(re.search('a{3,5}?', 'aaaaaaaa'))"
   ]
  },
  {
   "cell_type": "code",
   "execution_count": null,
   "metadata": {},
   "outputs": [],
   "source": []
  }
 ],
 "metadata": {
  "kernelspec": {
   "display_name": "Python 3",
   "language": "python",
   "name": "python3"
  },
  "language_info": {
   "codemirror_mode": {
    "name": "ipython",
    "version": 3
   },
   "file_extension": ".py",
   "mimetype": "text/x-python",
   "name": "python",
   "nbconvert_exporter": "python",
   "pygments_lexer": "ipython3",
   "version": "3.7.7"
  }
 },
 "nbformat": 4,
 "nbformat_minor": 4
}
